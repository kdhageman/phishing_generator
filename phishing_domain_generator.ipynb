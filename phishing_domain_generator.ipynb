{
  "nbformat": 4,
  "nbformat_minor": 0,
  "metadata": {
    "colab": {
      "name": "phishing_domain_generator.ipynb",
      "version": "0.3.2",
      "provenance": [],
      "collapsed_sections": [
        "-fBjQyjWdQ58",
        "1tL3FutodF4P",
        "PWrZLGx_c9pD"
      ]
    },
    "kernelspec": {
      "name": "python3",
      "display_name": "Python 3"
    },
    "accelerator": "GPU"
  },
  "cells": [
    {
      "metadata": {
        "id": "-Et7DiHmUjx2",
        "colab_type": "code",
        "colab": {
          "base_uri": "https://localhost:8080/",
          "height": 139
        },
        "outputId": "2b086b86-a3ec-434f-f6ed-d0601aee5ae9"
      },
      "cell_type": "code",
      "source": [
        "!pip install torch\n",
        "\n",
        "import torch\n",
        "import numpy as np\n",
        "\n",
        "torch.manual_seed(1);"
      ],
      "execution_count": 1,
      "outputs": [
        {
          "output_type": "stream",
          "text": [
            "Collecting torch\n",
            "\u001b[?25l  Downloading https://files.pythonhosted.org/packages/49/0e/e382bcf1a6ae8225f50b99cc26effa2d4cc6d66975ccf3fa9590efcbedce/torch-0.4.1-cp36-cp36m-manylinux1_x86_64.whl (519.5MB)\n",
            "\u001b[K    100% |████████████████████████████████| 519.5MB 29kB/s \n",
            "tcmalloc: large alloc 1073750016 bytes == 0x59a50000 @  0x7fd338c831c4 0x46d6a4 0x5fcbcc 0x4c494d 0x54f3c4 0x553aaf 0x54e4c8 0x54f4f6 0x553aaf 0x54efc1 0x54f24d 0x553aaf 0x54efc1 0x54f24d 0x553aaf 0x54efc1 0x54f24d 0x551ee0 0x54e4c8 0x54f4f6 0x553aaf 0x54efc1 0x54f24d 0x551ee0 0x54efc1 0x54f24d 0x551ee0 0x54e4c8 0x54f4f6 0x553aaf 0x54e4c8\n",
            "\u001b[?25hInstalling collected packages: torch\n",
            "Successfully installed torch-0.4.1\n"
          ],
          "name": "stdout"
        }
      ]
    },
    {
      "metadata": {
        "id": "V2xcwbxsLg8x",
        "colab_type": "text"
      },
      "cell_type": "markdown",
      "source": [
        "Mount Google Drive for access to data"
      ]
    },
    {
      "metadata": {
        "id": "JsTvT83gUjx8",
        "colab_type": "code",
        "colab": {}
      },
      "cell_type": "code",
      "source": [
        "import sys\n",
        "from google.colab import auth\n",
        "import getpass\n",
        "\n",
        "if sys.platform == 'linux' and not 'initialized' in locals():\n",
        "  !apt-get install -y -qq software-properties-common python-software-properties module-init-tools\n",
        "  !add-apt-repository -y ppa:alessandro-strada/ppa 2>&1 > /dev/null\n",
        "  !apt-get update -qq 2>&1 > /dev/null\n",
        "  !apt-get -y install -qq google-drive-ocamlfuse fuse\n",
        "  \n",
        "  auth.authenticate_user()\n",
        "  from oauth2client.client import GoogleCredentials\n",
        "  creds = GoogleCredentials.get_application_default()\n",
        "\n",
        "  !google-drive-ocamlfuse -headless -id={creds.client_id} -secret={creds.client_secret} < /dev/null 2>&1 | grep URL\n",
        "  vcode = getpass.getpass()\n",
        "  !echo {vcode} | google-drive-ocamlfuse -headless -id={creds.client_id} -secret={creds.client_secret}\n",
        "\n",
        "  !mkdir -p data\n",
        "  !google-drive-ocamlfuse data\n",
        "  \n",
        "  initialized = True\n",
        "else:\n",
        "  print(\"Already initialized\")"
      ],
      "execution_count": 0,
      "outputs": []
    },
    {
      "metadata": {
        "id": "W8SBwK8W7Rwg",
        "colab_type": "text"
      },
      "cell_type": "markdown",
      "source": [
        "Load model if it already exists"
      ]
    },
    {
      "metadata": {
        "id": "lTZMQ_sw7RB6",
        "colab_type": "code",
        "colab": {
          "base_uri": "https://localhost:8080/",
          "height": 34
        },
        "outputId": "6f8ac8f8-a17f-4de5-c251-a99f585e7de5"
      },
      "cell_type": "code",
      "source": [
        "import os.path\n",
        "MODEL_FNAME = 'data/models.data'\n",
        "\n",
        "if os.path.isfile(MODEL_FNAME) and 'load_models' in locals() and load_models:\n",
        "  with open('data/models.dat', 'rb') as f:\n",
        "    train_res = pickle.load(f)\n",
        "else:\n",
        "  print(\"Not loading models\")"
      ],
      "execution_count": 3,
      "outputs": [
        {
          "output_type": "stream",
          "text": [
            "Not loading models\n"
          ],
          "name": "stdout"
        }
      ]
    },
    {
      "metadata": {
        "id": "K7811mJccV9U",
        "colab_type": "text"
      },
      "cell_type": "markdown",
      "source": [
        "Define global arguments"
      ]
    },
    {
      "metadata": {
        "id": "bn-_WM_BW1TB",
        "colab_type": "code",
        "colab": {}
      },
      "cell_type": "code",
      "source": [
        "class args:\n",
        "  # data set size\n",
        "  train_size = 10000\n",
        "  \n",
        "  # training parameters\n",
        "  print_every = 200\n",
        "  plot_every = 100\n",
        " \n",
        "  # sampling\n",
        "  max_length = 255"
      ],
      "execution_count": 0,
      "outputs": []
    },
    {
      "metadata": {
        "id": "XfASdJiEUjyD",
        "colab_type": "text"
      },
      "cell_type": "markdown",
      "source": [
        "Define the alphabet dictionary"
      ]
    },
    {
      "metadata": {
        "id": "8wmRmrxlUjyD",
        "colab_type": "code",
        "colab": {}
      },
      "cell_type": "code",
      "source": [
        "from collections import defaultdict\n",
        "\n",
        "# Define alphabet dictionary\n",
        "next_index = 0\n",
        "def get_new_index():\n",
        "  global next_index\n",
        "  index = next_index\n",
        "  next_index += 1\n",
        "  return index\n",
        "\n",
        "alphabet = defaultdict(get_new_index)"
      ],
      "execution_count": 0,
      "outputs": []
    },
    {
      "metadata": {
        "id": "-fBjQyjWdQ58",
        "colab_type": "text"
      },
      "cell_type": "markdown",
      "source": [
        "# Data preprocessing"
      ]
    },
    {
      "metadata": {
        "id": "HMW8u3yrUjyF",
        "colab_type": "text"
      },
      "cell_type": "markdown",
      "source": [
        "Load the phishing domains from a file. The file is expected to contain a pickled Python list of strings. Example:\n",
        "```\n",
        "first.domain.com\n",
        "second.domain.com\n",
        "third.domain.com\n",
        "last.domain.com\n",
        "```"
      ]
    },
    {
      "metadata": {
        "id": "H6haIe8pUjyH",
        "colab_type": "code",
        "colab": {}
      },
      "cell_type": "code",
      "source": [
        "import pickle\n",
        "\n",
        "TRAIN_FILE = \"data/phishing_domains.dat\"\n",
        "with open(TRAIN_FILE, 'rb') as f:\n",
        "    data = pickle.load(f)  "
      ],
      "execution_count": 0,
      "outputs": []
    },
    {
      "metadata": {
        "id": "1TB18b3iUjyJ",
        "colab_type": "text"
      },
      "cell_type": "markdown",
      "source": [
        "Tokenize data and fill (reverse) alphabet"
      ]
    },
    {
      "metadata": {
        "id": "xJVJqJ10UjyJ",
        "colab_type": "code",
        "colab": {}
      },
      "cell_type": "code",
      "source": [
        "import itertools\n",
        "import random\n",
        "\n",
        "random.seed(1)\n",
        "\n",
        "device = torch.device('cuda' if torch.cuda.is_available() else 'cpu')\n",
        "\n",
        "def tokenize(data):\n",
        "  # Returns a list of Tensors, with each integer in the tensor representing a character in a domain name.\n",
        "  # Note that domain names are case-insensitive.\n",
        "  return [torch.tensor([alphabet['<s>']] + [alphabet[i] for i in domain.lower()] + [alphabet['</s>']]).to(device) for domain in data]\n",
        "\n",
        "def detokenize(t):\n",
        "  # Recreate domain name from tensor 1d t\n",
        "  res = ''\n",
        "  for token in t:\n",
        "    res += reverse_alphabet[token.item()]\n",
        "  return res\n",
        "\n",
        "train_tokens = tokenize(data[:args.train_size])\n",
        "  \n",
        "alphabet_size = len(alphabet)\n",
        "reverse_alphabet = dict([(v,k) for k, v in alphabet.items()])\n",
        "\n",
        "random.shuffle(train_tokens)"
      ],
      "execution_count": 0,
      "outputs": []
    },
    {
      "metadata": {
        "id": "QZwdrE7imNxO",
        "colab_type": "text"
      },
      "cell_type": "markdown",
      "source": [
        "Some helper functions for encoding domains and characters and rand"
      ]
    },
    {
      "metadata": {
        "id": "FfJ_gc56mHzc",
        "colab_type": "code",
        "colab": {}
      },
      "cell_type": "code",
      "source": [
        "import numpy as np\n",
        "\n",
        "def one_hot(d):\n",
        "  # One-hot encoding of 1-d tensor d\n",
        "  res = torch.zeros(len(d), 1, alphabet_size).to(device)\n",
        "  for i, char in enumerate(d):\n",
        "    res[i][0][int(char.item())] = 1\n",
        "  return res\n",
        "\n",
        "def encode_inputs(d):\n",
        "  # One-hot encoding for the input of a 1d tensor\n",
        "  return one_hot(d[:-1])\n",
        "\n",
        "def encode_targets(d):\n",
        "  # Return targets for 1d tensor d\n",
        "  return d[1:]"
      ],
      "execution_count": 0,
      "outputs": []
    },
    {
      "metadata": {
        "id": "jSGjNhhkUjyT",
        "colab_type": "text"
      },
      "cell_type": "markdown",
      "source": [
        "Define model"
      ]
    },
    {
      "metadata": {
        "id": "1tL3FutodF4P",
        "colab_type": "text"
      },
      "cell_type": "markdown",
      "source": [
        "# Training the model"
      ]
    },
    {
      "metadata": {
        "id": "Zdfj5CMQUjyT",
        "colab_type": "code",
        "colab": {}
      },
      "cell_type": "code",
      "source": [
        "import torch.nn as nn\n",
        "\n",
        "class RNNModel(nn.Module):\n",
        "    def __init__(self, n_input, n_hidden, n_output):\n",
        "        super(RNNModel, self).__init__()              \n",
        "        self.n_hidden = n_hidden\n",
        "\n",
        "        self.i2h = nn.Linear(n_input + n_hidden, n_hidden)\n",
        "        self.i2o = nn.Linear(n_input + n_hidden, n_output)\n",
        "        self.o2o = nn.Linear(n_hidden + n_output, n_output)\n",
        "        self.dropout = nn.Dropout(0.1)\n",
        "        self.softmax = nn.LogSoftmax(dim=1)\n",
        "        \n",
        "    def forward(self, input, hidden=None):\n",
        "        input_combined = torch.cat((input, hidden), 1)\n",
        "        hidden = self.i2h(input_combined)\n",
        "        output = self.i2o(input_combined)\n",
        "        output_combined = torch.cat((hidden, output), 1)\n",
        "        output = self.o2o(output_combined)\n",
        "        output = self.dropout(output)\n",
        "        output = self.softmax(output)\n",
        "        return output, hidden\n",
        "    \n",
        "    def init_hidden(self):\n",
        "      return torch.zeros(1, self.n_hidden).to(device)\n",
        "    \n",
        "lossfn = nn.NLLLoss()"
      ],
      "execution_count": 0,
      "outputs": []
    },
    {
      "metadata": {
        "id": "j_iH8plmUjyV",
        "colab_type": "text"
      },
      "cell_type": "markdown",
      "source": [
        "Define train function, which trains a model on a single domain name"
      ]
    },
    {
      "metadata": {
        "id": "ZqsUsC6uUjyV",
        "colab_type": "code",
        "colab": {}
      },
      "cell_type": "code",
      "source": [
        "from torch.nn.utils import clip_grad_norm_\n",
        "\n",
        "def train_example(model, optimizer, sample):\n",
        "  # train on a single example domain name\n",
        "  inputs, targets = encode_inputs(sample), encode_targets(sample)\n",
        "\n",
        "  hidden = model.init_hidden()\n",
        "  targets.unsqueeze_(-1)\n",
        " \n",
        "  loss = 0\n",
        "    \n",
        "  for i in range(inputs.size(0)):    \n",
        "    input, target = inputs[i], targets[i]\n",
        "    output, hidden = model(input, hidden)\n",
        "    loss += lossfn(output, target)   \n",
        "\n",
        "  optimizer.zero_grad()\n",
        "  loss.backward()\n",
        "  clip_grad_norm_(model.parameters(), 0.5) # clip gradients to prevent explosion of loss\n",
        "  optimizer.step()\n",
        "    \n",
        "  return output, loss.item()/inputs.size(0)   "
      ],
      "execution_count": 0,
      "outputs": []
    },
    {
      "metadata": {
        "id": "I9xDEVdydpwA",
        "colab_type": "text"
      },
      "cell_type": "markdown",
      "source": [
        "Util function for timing"
      ]
    },
    {
      "metadata": {
        "id": "NiHpbtd7dpRp",
        "colab_type": "code",
        "colab": {}
      },
      "cell_type": "code",
      "source": [
        "import time\n",
        "import math\n",
        "\n",
        "def elapsed(since):\n",
        "  # Return a string representing the elapsed time since 'since'\n",
        "  now = time.time()\n",
        "  s = now - since\n",
        "  m = math.floor(s / 60)\n",
        "  s -= m * 60\n",
        "  return '%dm %ds' % (m, s)\n",
        "\n",
        "def now():\n",
        "  return time.time()"
      ],
      "execution_count": 0,
      "outputs": []
    },
    {
      "metadata": {
        "id": "vLf3SR1xdA3O",
        "colab_type": "text"
      },
      "cell_type": "markdown",
      "source": [
        "Train the model. The training function iterates over de training set and trains per domain name. The loss of all character predictions in the domain name is backpropagated."
      ]
    },
    {
      "metadata": {
        "id": "lgx6gwyJc-7P",
        "colab_type": "code",
        "colab": {
          "base_uri": "https://localhost:8080/",
          "height": 1020
        },
        "outputId": "afa9c534-ad25-4556-ee5a-148542bd4a9b"
      },
      "cell_type": "code",
      "source": [
        "def train(model, optimizer):\n",
        "  print_loss, plot_loss, all_losses = 0, 0, []  \n",
        "  start = now()\n",
        "\n",
        "  for i, sample in enumerate(train_tokens):\n",
        "    output, loss = train_example(model, optimizer, sample)\n",
        "    print_loss += loss\n",
        "    plot_loss += loss\n",
        "\n",
        "    if (i+1) % args.print_every == 0:    \n",
        "      avg_loss = print_loss / args.print_every\n",
        "      print(\"%s (%d %d%%) %.4f\" % (elapsed(start), i+1, (i+1)/args.train_size*100, avg_loss))\n",
        "      print_loss = 0\n",
        "\n",
        "    if (i+1) % args.plot_every == 0:\n",
        "      avg_loss = plot_loss / args.plot_every\n",
        "      all_losses.append(avg_loss)\n",
        "      plot_loss = 0\n",
        "      \n",
        "  return all_losses\n",
        "\n",
        "train_res = []\n",
        "\n",
        "n_hidden = [256, 128]\n",
        "learning_rates = [3e-3, 1e-3, 3e-4]\n",
        "for n in n_hidden:\n",
        "  for lr in learning_rates:\n",
        "    print(\"Training with %d hidden nodes and a learning rate of %f\" % (n, lr))\n",
        "    model = RNNModel(alphabet_size, n, alphabet_size).to(device)\n",
        "    optimizer = torch.optim.Adam(model.parameters(), lr=lr)\n",
        "\n",
        "    model_losses = train(model, optimizer)\n",
        "\n",
        "    train_res.append((model, n, lr, model_losses))\n",
        "   "
      ],
      "execution_count": 0,
      "outputs": [
        {
          "output_type": "stream",
          "text": [
            "Training with 256 hidden nodes and a learning rate of 0.003000\n",
            "0m 14s (200 2%) 3.6412\n",
            "0m 30s (400 4%) 2.7327\n",
            "0m 44s (600 6%) 2.7290\n",
            "0m 58s (800 8%) 2.7334\n",
            "1m 13s (1000 10%) 2.6720\n",
            "1m 28s (1200 12%) 2.6708\n",
            "1m 44s (1400 14%) 2.6094\n",
            "1m 58s (1600 16%) 11.7248\n",
            "2m 13s (1800 18%) 2.7986\n",
            "2m 27s (2000 20%) 2.5738\n",
            "2m 42s (2200 22%) 2.6200\n",
            "2m 56s (2400 24%) 2.5963\n",
            "3m 12s (2600 26%) 2.6005\n",
            "3m 27s (2800 28%) 2.5806\n",
            "3m 42s (3000 30%) 2.5833\n",
            "3m 57s (3200 32%) 2.6198\n",
            "4m 11s (3400 34%) 2.6001\n",
            "4m 26s (3600 36%) 2.6012\n",
            "4m 41s (3800 38%) 2.5607\n",
            "4m 56s (4000 40%) 2.6114\n",
            "5m 11s (4200 42%) 2.6005\n",
            "5m 26s (4400 44%) 2.5746\n",
            "5m 41s (4600 46%) 2.5640\n",
            "5m 54s (4800 48%) 2.5683\n",
            "6m 8s (5000 50%) 295.9247\n",
            "6m 23s (5200 52%) 2.5434\n",
            "6m 38s (5400 54%) 2.5623\n",
            "6m 52s (5600 56%) 2.6056\n",
            "7m 6s (5800 57%) 2.5616\n",
            "7m 19s (6000 60%) 2.6111\n",
            "7m 33s (6200 62%) 2.5511\n",
            "7m 48s (6400 64%) 2.5797\n",
            "8m 2s (6600 66%) 2.5162\n",
            "8m 17s (6800 68%) 2.5829\n",
            "8m 32s (7000 70%) 2.6197\n",
            "8m 46s (7200 72%) 2.6451\n",
            "9m 1s (7400 74%) 2.5721\n",
            "9m 14s (7600 76%) 2.7041\n",
            "9m 28s (7800 78%) 2.7316\n",
            "9m 42s (8000 80%) 2.9191\n",
            "9m 57s (8200 82%) 2.7372\n",
            "10m 10s (8400 84%) 2.5367\n",
            "10m 24s (8600 86%) 2.5463\n",
            "10m 39s (8800 88%) 130.4411\n",
            "10m 53s (9000 90%) 8.9197\n",
            "11m 8s (9200 92%) 2.5342\n",
            "11m 22s (9400 94%) 2.5361\n",
            "11m 36s (9600 96%) 3.9812\n",
            "11m 51s (9800 98%) 2.7568\n",
            "12m 5s (10000 100%) 2.6044\n",
            "Training with 256 hidden nodes and a learning rate of 0.001000\n",
            "0m 14s (200 2%) 3.1722\n",
            "0m 29s (400 4%) 2.8186\n",
            "0m 44s (600 6%) 2.6909\n",
            "0m 58s (800 8%) 2.6608\n",
            "1m 12s (1000 10%) 2.5719\n",
            "1m 28s (1200 12%) 2.5704\n",
            "1m 43s (1400 14%) 2.5179\n"
          ],
          "name": "stdout"
        }
      ]
    },
    {
      "metadata": {
        "id": "Z3hFy5jjlH-r",
        "colab_type": "code",
        "colab": {
          "base_uri": "https://localhost:8080/",
          "height": 34
        },
        "outputId": "410b80ed-a495-4795-ed9d-c01ae51fff2b"
      },
      "cell_type": "code",
      "source": [
        "if 'save_models' in locals() and save_models:\n",
        "  with open(MODEL_FNAME, 'wb') as f:\n",
        "    pickle.dump(train_res, f)\n",
        "else:\n",
        "  print(\"Model saving disabled. Use 'save_models = True' to enable model saving\")"
      ],
      "execution_count": 1,
      "outputs": [
        {
          "output_type": "stream",
          "text": [
            "Model saving disabled. Use 'save_models = True' to enable model saving\n"
          ],
          "name": "stdout"
        }
      ]
    },
    {
      "metadata": {
        "id": "9ovyqaUzkVff",
        "colab_type": "code",
        "colab": {
          "base_uri": "https://localhost:8080/",
          "height": 365
        },
        "outputId": "d6762ac8-709e-404e-bb42-9f05a419d123"
      },
      "cell_type": "code",
      "source": [
        "import matplotlib.pyplot as plt\n",
        "\n",
        "plt.figure()\n",
        "X = np.arange(0, args.train_size, args.plot_every)+args.plot_every\n",
        "for model, n, lr, model_losses in train_res:\n",
        "  line, = plt.plot(X, model_losses)\n",
        "  line.set_label(\"%d hidden nodes, %.4f learning rate\" % (n, lr))\n",
        "plt.legend()\n",
        "plt.ylim(2, 5)\n",
        "plt.xlim(0, args.train_size)\n",
        "plt.xlabel(\"Training examples\")\n",
        "plt.ylabel(\"Loss\");\n",
        "\n",
        "plt.savefig('parameter_optimization.eps')"
      ],
      "execution_count": 146,
      "outputs": [
        {
          "output_type": "display_data",
          "data": {
            "image/png": "[encoded data removed]",
            "text/plain": [
              "<matplotlib.figure.Figure at 0x7fd84d329470>"
            ]
          },
          "metadata": {
            "tags": []
          }
        }
      ]
    },
    {
      "metadata": {
        "id": "PWrZLGx_c9pD",
        "colab_type": "text"
      },
      "cell_type": "markdown",
      "source": [
        "# Domain name generation"
      ]
    },
    {
      "metadata": {
        "id": "6-pAL2A0xf0a",
        "colab_type": "text"
      },
      "cell_type": "markdown",
      "source": [
        "Sample the network to generate domain names"
      ]
    },
    {
      "metadata": {
        "id": "8A2t-12WxaRk",
        "colab_type": "code",
        "colab": {
          "base_uri": "https://localhost:8080/",
          "height": 1717
        },
        "outputId": "4105ebaa-d647-4c7d-c992-89f642bec37b"
      },
      "cell_type": "code",
      "source": [
        "def one_hot_letter(l):\n",
        "  # One-hot encoding of letter\n",
        "  return one_hot(torch.tensor([alphabet[l]]))[0]\n",
        "\n",
        "def sample(model, start_letter='<s>'):\n",
        "  with torch.no_grad():\n",
        "    input = one_hot_letter(start_letter)\n",
        "    hidden = model.init_hidden()   \n",
        "\n",
        "    res = '' if start_letter == '<s>' else start_letter\n",
        "    \n",
        "    for i in range(args.max_length):   \n",
        "      output, hidden = model(input, hidden)\n",
        "      predicted_num = output.topk(1)[1].item()\n",
        "      if predicted_num == alphabet['</s>']:\n",
        "        # model generated an 'end-of-sequence'\n",
        "        break\n",
        "      predicted_letter = reverse_alphabet[predicted_num]\n",
        "      res += predicted_letter\n",
        "      input = one_hot_letter(predicted_letter)    \n",
        "      \n",
        "    return res\n",
        "\n",
        "# generate 100 domain names\n",
        "chars = 'abcdefghijklmnopqrstuvxyz0123456789'\n",
        "for i in range(100):\n",
        "  start_letter = random.choice(chars)\n",
        "  print(sample(train_res[0][0], start_letter))\n",
        "    "
      ],
      "execution_count": 149,
      "outputs": [
        {
          "output_type": "stream",
          "text": [
            "y.com.com\n",
            "qupd.co\n",
            "teres.com\n",
            "9-secore.com\n",
            "terestericomere.com\n",
            "ine.cem\n",
            "ge.com\n",
            "7.cor\n",
            "ine.com\n",
            "4.com\n",
            "com.com\n",
            "3eresterestereste.co\n",
            "5.co\n",
            "upplein.com\n",
            "9.cem\n",
            "y.co\n",
            "ing.com\n",
            "applein.com\n",
            "9.178.68.co\n",
            "m.com.com\n",
            "re.com\n",
            "erines.com\n",
            "4.com\n",
            "s.com\n",
            "applein.com\n",
            "re.com\n",
            "7.com\n",
            "bang.cem.com\n",
            "0e.com\n",
            "here.ce\n",
            "g.com.com\n",
            "upplein.com\n",
            "3.com\n",
            "foresterine.cem\n",
            "6.comare.cem\n",
            "8.com\n",
            "veresteresteresteresterine.com\n",
            "cam.com\n",
            "m.ant\n",
            "ke.com\n",
            "de.com\n",
            "heresterine.com.com\n",
            "com.com\n",
            "heresterestersecore.comere.cem\n",
            "8.com\n",
            "te.com\n",
            "m.com\n",
            "kere.cem\n",
            "9.com\n",
            "japalesterestine.cam\n",
            "om.com\n",
            "ne.com.com\n",
            "foresterestine.com\n",
            "7.com\n",
            "x.cem\n",
            "24.com\n",
            "re.com\n",
            "ine.cem\n",
            "s.com\n",
            "paypalestereste.com\n",
            "eresteresteresteres.cem\n",
            "qupplees.opple.com.com\n",
            "de.ne\n",
            "bane.com.com\n",
            "24.com\n",
            "sereresteresterestereste.com\n",
            "5-846.17\n",
            "24.com.co\n",
            "24.com\n",
            "e.com\n",
            "le.com\n",
            "neresteresteresteres.ce\n",
            "com.com\n",
            "24.com\n",
            "1.com\n",
            "x.ne\n",
            "x.com\n",
            "7-lewww.applerine.com.com\n",
            "japplere.com\n",
            "lerine.an\n",
            "ore.com\n",
            "om.co\n",
            "d.com\n",
            "y.com\n",
            "eresteresteresteres.co\n",
            "3.com\n",
            "upplein.on\n",
            "ne.com\n",
            "om.com.com\n",
            "qupd.com\n",
            "japplere.co\n",
            "8.com\n",
            "zappletinne.com\n",
            "g.com\n",
            "5-apples.com\n",
            "applein.com\n",
            "5.com\n",
            "teresteresteresteresteresteresteresterine.com\n",
            "qupd.com\n",
            "s.cem\n"
          ],
          "name": "stdout"
        }
      ]
    },
    {
      "metadata": {
        "id": "OfMArKsQ-eiP",
        "colab_type": "code",
        "colab": {}
      },
      "cell_type": "code",
      "source": [
        ""
      ],
      "execution_count": 0,
      "outputs": []
    }
  ]
}