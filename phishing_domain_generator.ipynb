{
  "nbformat": 4,
  "nbformat_minor": 0,
  "metadata": {
    "colab": {
      "name": "phishing_domain_generator.ipynb",
      "version": "0.3.2",
      "provenance": [],
      "collapsed_sections": []
    },
    "kernelspec": {
      "name": "python3",
      "display_name": "Python 3"
    },
    "accelerator": "GPU"
  },
  "cells": [
    {
      "metadata": {
        "id": "-Et7DiHmUjx2",
        "colab_type": "code",
        "colab": {
          "base_uri": "https://localhost:8080/",
          "height": 34
        },
        "outputId": "cd23c884-4f5c-4b92-b0f5-7fa0981546ca"
      },
      "cell_type": "code",
      "source": [
        "!pip install torch\n",
        "\n",
        "import torch\n",
        "import numpy as np\n",
        "\n",
        "torch.manual_seed(1);"
      ],
      "execution_count": 150,
      "outputs": [
        {
          "output_type": "stream",
          "text": [
            "Requirement already satisfied: torch in /usr/local/lib/python3.6/dist-packages (0.4.1)\n"
          ],
          "name": "stdout"
        }
      ]
    },
    {
      "metadata": {
        "id": "V2xcwbxsLg8x",
        "colab_type": "text"
      },
      "cell_type": "markdown",
      "source": [
        "Mount Google Drive for access to data"
      ]
    },
    {
      "metadata": {
        "id": "JsTvT83gUjx8",
        "colab_type": "code",
        "colab": {}
      },
      "cell_type": "code",
      "source": [
        "import sys\n",
        "from google.colab import auth\n",
        "import getpass\n",
        "\n",
        "if sys.platform == 'linux' and not 'initialized' in locals():\n",
        "  !apt-get install -y -qq software-properties-common python-software-properties module-init-tools\n",
        "  !add-apt-repository -y ppa:alessandro-strada/ppa 2>&1 > /dev/null\n",
        "  !apt-get update -qq 2>&1 > /dev/null\n",
        "  !apt-get -y install -qq google-drive-ocamlfuse fuse\n",
        "  \n",
        "  auth.authenticate_user()\n",
        "  from oauth2client.client import GoogleCredentials\n",
        "  creds = GoogleCredentials.get_application_default()\n",
        "\n",
        "  !google-drive-ocamlfuse -headless -id={creds.client_id} -secret={creds.client_secret} < /dev/null 2>&1 | grep URL\n",
        "  vcode = getpass.getpass()\n",
        "  !echo {vcode} | google-drive-ocamlfuse -headless -id={creds.client_id} -secret={creds.client_secret}\n",
        "\n",
        "  !mkdir -p data\n",
        "  !google-drive-ocamlfuse data\n",
        "  \n",
        "  initialized = True\n",
        "else:\n",
        "  print(\"Already initialized\")"
      ],
      "execution_count": 0,
      "outputs": []
    },
    {
      "metadata": {
        "id": "W8SBwK8W7Rwg",
        "colab_type": "text"
      },
      "cell_type": "markdown",
      "source": [
        "Load model if it already exists"
      ]
    },
    {
      "metadata": {
        "id": "lTZMQ_sw7RB6",
        "colab_type": "code",
        "colab": {
          "base_uri": "https://localhost:8080/",
          "height": 34
        },
        "outputId": "d3cf075d-50c1-4271-bdce-c2decf6b8fec"
      },
      "cell_type": "code",
      "source": [
        "import os.path\n",
        "import pickle\n",
        "MODEL_FNAME = 'data/models.data'\n",
        "\n",
        "if os.path.isfile(MODEL_FNAME) and 'load_models' in locals() and load_models:\n",
        "  with open(MODEL_FNAME, 'rb') as f:\n",
        "    train_res = pickle.load(f)\n",
        "else:\n",
        "  print(\"Not loading models\")"
      ],
      "execution_count": 3,
      "outputs": [
        {
          "output_type": "stream",
          "text": [
            "Not loading models\n"
          ],
          "name": "stdout"
        }
      ]
    },
    {
      "metadata": {
        "id": "K7811mJccV9U",
        "colab_type": "text"
      },
      "cell_type": "markdown",
      "source": [
        "Define global arguments"
      ]
    },
    {
      "metadata": {
        "id": "bn-_WM_BW1TB",
        "colab_type": "code",
        "colab": {}
      },
      "cell_type": "code",
      "source": [
        "class args:\n",
        "  # data set size\n",
        "  train_size = 10000\n",
        "  \n",
        "  # training parameters\n",
        "  print_every = 40\n",
        "  plot_every = 80\n",
        " \n",
        "  # sampling\n",
        "  max_length = 255"
      ],
      "execution_count": 0,
      "outputs": []
    },
    {
      "metadata": {
        "id": "XfASdJiEUjyD",
        "colab_type": "text"
      },
      "cell_type": "markdown",
      "source": [
        "Define the alphabet dictionary"
      ]
    },
    {
      "metadata": {
        "id": "8wmRmrxlUjyD",
        "colab_type": "code",
        "colab": {}
      },
      "cell_type": "code",
      "source": [
        "from collections import defaultdict\n",
        "\n",
        "# Define alphabet dictionary\n",
        "next_index = 0\n",
        "def get_new_index():\n",
        "  global next_index\n",
        "  index = next_index\n",
        "  next_index += 1\n",
        "  return index\n",
        "\n",
        "alphabet = defaultdict(get_new_index)"
      ],
      "execution_count": 0,
      "outputs": []
    },
    {
      "metadata": {
        "id": "-fBjQyjWdQ58",
        "colab_type": "text"
      },
      "cell_type": "markdown",
      "source": [
        "# Data preprocessing"
      ]
    },
    {
      "metadata": {
        "id": "HMW8u3yrUjyF",
        "colab_type": "text"
      },
      "cell_type": "markdown",
      "source": [
        "Load the phishing domains from a file. The file is expected to contain a pickled Python list of strings. Example:\n",
        "```\n",
        "first.domain.com\n",
        "second.domain.com\n",
        "third.domain.com\n",
        "last.domain.com\n",
        "```"
      ]
    },
    {
      "metadata": {
        "id": "H6haIe8pUjyH",
        "colab_type": "code",
        "colab": {}
      },
      "cell_type": "code",
      "source": [
        "import pickle\n",
        "\n",
        "TRAIN_FILE = \"data/phishing_domains.dat\"\n",
        "with open(TRAIN_FILE, 'rb') as f:\n",
        "    data = pickle.load(f)  "
      ],
      "execution_count": 0,
      "outputs": []
    },
    {
      "metadata": {
        "id": "1TB18b3iUjyJ",
        "colab_type": "text"
      },
      "cell_type": "markdown",
      "source": [
        "Tokenize data and fill (reverse) alphabet"
      ]
    },
    {
      "metadata": {
        "id": "xJVJqJ10UjyJ",
        "colab_type": "code",
        "colab": {}
      },
      "cell_type": "code",
      "source": [
        "import itertools\n",
        "import numpy as np\n",
        "\n",
        "np.random.seed(1)\n",
        "\n",
        "device = torch.device('cuda' if torch.cuda.is_available() else 'cpu')\n",
        "\n",
        "def tokenize(data):\n",
        "  # Returns a list of Tensors, with each integer in the tensor representing a character in a domain name.\n",
        "  # Note that domain names are case-insensitive.\n",
        "  return [torch.tensor([alphabet['<s>']] + [alphabet[i] for i in domain.lower()] + [alphabet['</s>']]).to(device) for domain in data]\n",
        "\n",
        "def detokenize(t):\n",
        "  # Recreate domain name from tensor 1d t\n",
        "  res = ''\n",
        "  for token in t:\n",
        "    res += reverse_alphabet[token.item()]\n",
        "  return res\n",
        "\n",
        "train_domains = data[:args.train_size]\n",
        "train_tokens = tokenize(train_domains)\n",
        "  \n",
        "alphabet_size = len(alphabet)\n",
        "reverse_alphabet = dict([(v,k) for k, v in alphabet.items()])\n",
        "\n",
        "np.random.shuffle(train_tokens)"
      ],
      "execution_count": 0,
      "outputs": []
    },
    {
      "metadata": {
        "id": "QZwdrE7imNxO",
        "colab_type": "text"
      },
      "cell_type": "markdown",
      "source": [
        "Some helper functions for encoding domains and characters and rand"
      ]
    },
    {
      "metadata": {
        "id": "FfJ_gc56mHzc",
        "colab_type": "code",
        "colab": {}
      },
      "cell_type": "code",
      "source": [
        "def one_hot(d):\n",
        "  # One-hot encoding of 1-d tensor d\n",
        "  res = torch.zeros(len(d), 1, alphabet_size).to(device)\n",
        "  for i, char in enumerate(d):\n",
        "    res[i][0][int(char.item())] = 1\n",
        "  return res\n",
        "\n",
        "def encode_inputs(d):\n",
        "  # One-hot encoding for the input of a 1d tensor\n",
        "  return one_hot(d[:-1])\n",
        "\n",
        "def encode_targets(d):\n",
        "  # Return targets for 1d tensor d\n",
        "  return d[1:]"
      ],
      "execution_count": 0,
      "outputs": []
    },
    {
      "metadata": {
        "id": "1tL3FutodF4P",
        "colab_type": "text"
      },
      "cell_type": "markdown",
      "source": [
        "# Training the model"
      ]
    },
    {
      "metadata": {
        "id": "jSGjNhhkUjyT",
        "colab_type": "text"
      },
      "cell_type": "markdown",
      "source": [
        "Define model"
      ]
    },
    {
      "metadata": {
        "id": "Zdfj5CMQUjyT",
        "colab_type": "code",
        "colab": {}
      },
      "cell_type": "code",
      "source": [
        "import torch.nn as nn\n",
        "\n",
        "class RNNModel(nn.Module):\n",
        "    def __init__(self, n_input, n_hidden, n_output):\n",
        "        super(RNNModel, self).__init__()              \n",
        "        self.n_hidden = n_hidden\n",
        "\n",
        "        self.i2h = nn.Linear(n_input + n_hidden, n_hidden)\n",
        "        self.i2o = nn.Linear(n_input + n_hidden, n_output)\n",
        "        self.o2o = nn.Linear(n_hidden + n_output, n_output)\n",
        "        self.dropout = nn.Dropout(0.1)\n",
        "        self.softmax = nn.LogSoftmax(dim=1)\n",
        "        \n",
        "    def forward(self, input, hidden=None):\n",
        "        input_combined = torch.cat((input, hidden), 1)\n",
        "        hidden = self.i2h(input_combined)\n",
        "        output = self.i2o(input_combined)\n",
        "        output_combined = torch.cat((hidden, output), 1)\n",
        "        output = self.o2o(output_combined)\n",
        "        output = self.dropout(output)\n",
        "        output = self.softmax(output)\n",
        "        return output, hidden\n",
        "    \n",
        "    def init_hidden(self):\n",
        "      return torch.zeros(1, self.n_hidden).to(device)\n",
        "    \n",
        "lossfn = nn.NLLLoss()"
      ],
      "execution_count": 0,
      "outputs": []
    },
    {
      "metadata": {
        "id": "j_iH8plmUjyV",
        "colab_type": "text"
      },
      "cell_type": "markdown",
      "source": [
        "Define train function, which trains a model on a single domain name"
      ]
    },
    {
      "metadata": {
        "id": "ZqsUsC6uUjyV",
        "colab_type": "code",
        "colab": {}
      },
      "cell_type": "code",
      "source": [
        "from torch.nn.utils import clip_grad_norm_\n",
        "\n",
        "def train_example(model, optimizer, sample):\n",
        "  # train on a single example domain name\n",
        "  inputs, targets = encode_inputs(sample), encode_targets(sample)\n",
        "\n",
        "  hidden = model.init_hidden()\n",
        "  targets.unsqueeze_(-1)\n",
        " \n",
        "  loss = 0\n",
        "    \n",
        "  for i in range(inputs.size(0)):    \n",
        "    input, target = inputs[i], targets[i]\n",
        "    output, hidden = model(input, hidden)\n",
        "    loss += lossfn(output, target)   \n",
        "\n",
        "  optimizer.zero_grad()\n",
        "  loss.backward()\n",
        "  clip_grad_norm_(model.parameters(), 5) # clip gradients to prevent explosion of loss\n",
        "  optimizer.step()\n",
        "    \n",
        "  return output, loss.item()/inputs.size(0)   "
      ],
      "execution_count": 0,
      "outputs": []
    },
    {
      "metadata": {
        "id": "I9xDEVdydpwA",
        "colab_type": "text"
      },
      "cell_type": "markdown",
      "source": [
        "Util function for timing"
      ]
    },
    {
      "metadata": {
        "id": "NiHpbtd7dpRp",
        "colab_type": "code",
        "colab": {}
      },
      "cell_type": "code",
      "source": [
        "import time\n",
        "import math\n",
        "\n",
        "def elapsed(since):\n",
        "  # Return a string representing the elapsed time since 'since'\n",
        "  now = time.time()\n",
        "  s = now - since\n",
        "  m = math.floor(s / 60)\n",
        "  s -= m * 60\n",
        "  return '%dm %ds' % (m, s)\n",
        "\n",
        "def now():\n",
        "  return time.time()"
      ],
      "execution_count": 0,
      "outputs": []
    },
    {
      "metadata": {
        "id": "vLf3SR1xdA3O",
        "colab_type": "text"
      },
      "cell_type": "markdown",
      "source": [
        "Train the model. The training function iterates over de training set and trains per domain name. The loss of all character predictions in the domain name is backpropagated."
      ]
    },
    {
      "metadata": {
        "id": "lgx6gwyJc-7P",
        "colab_type": "code",
        "colab": {}
      },
      "cell_type": "code",
      "source": [
        "def train(model, optimizer):\n",
        "  print_loss, plot_loss, all_losses = 0, 0, []  \n",
        "  start = now()\n",
        "\n",
        "  for i, sample in enumerate(train_tokens):\n",
        "    output, loss = train_example(model, optimizer, sample)\n",
        "    print_loss += loss\n",
        "    plot_loss += loss\n",
        "\n",
        "    if (i+1) % args.print_every == 0:    \n",
        "      avg_loss = print_loss / args.print_every\n",
        "      print(\"%s (%d %.2f%%) %.4f\" % (elapsed(start), i+1, (i+1)/args.train_size*100, avg_loss))\n",
        "      print_loss = 0\n",
        "\n",
        "    if (i+1) % args.plot_every == 0:\n",
        "      avg_loss = plot_loss / args.plot_every\n",
        "      all_losses.append(avg_loss)\n",
        "      plot_loss = 0\n",
        "      \n",
        "  return all_losses\n",
        "\n",
        "train_res = []\n",
        "\n",
        "n_hidden = [128]\n",
        "learning_rates = [1e-3]\n",
        "for n in n_hidden:\n",
        "  for lr in learning_rates:\n",
        "    print(\"Training with %d hidden nodes and a learning rate of %f\" % (n, lr))\n",
        "    model = RNNModel(alphabet_size, n, alphabet_size).to(device)\n",
        "    optimizer = torch.optim.Adam(model.parameters(), lr=lr)\n",
        "\n",
        "    model_losses = train(model, optimizer)\n",
        "\n",
        "    train_res.append((model, n, lr, model_losses))\n",
        "   "
      ],
      "execution_count": 0,
      "outputs": []
    },
    {
      "metadata": {
        "id": "Z3hFy5jjlH-r",
        "colab_type": "code",
        "colab": {}
      },
      "cell_type": "code",
      "source": [
        "if 'save_models' in locals() and save_models:\n",
        "  with open(MODEL_FNAME, 'wb') as f:\n",
        "    pickle.dump(train_res, f)\n",
        "else:\n",
        "  print(\"Model saving disabled. Use 'save_models = True' to enable model saving\")"
      ],
      "execution_count": 0,
      "outputs": []
    },
    {
      "metadata": {
        "id": "9ovyqaUzkVff",
        "colab_type": "code",
        "colab": {
          "base_uri": "https://localhost:8080/",
          "height": 391
        },
        "outputId": "3e0d07e5-2666-4919-e658-3dcad5c6349b"
      },
      "cell_type": "code",
      "source": [
        "import matplotlib.pyplot as plt\n",
        "\n",
        "mpl.style.use('default')\n",
        "plt.figure()\n",
        "X = np.arange(0, (args.train_size // args.plot_every)*args.plot_every, args.plot_every)+args.plot_every\n",
        "for model, n, lr, model_losses in train_res:\n",
        "  line, = plt.plot(X, model_losses[:len(X)+1])\n",
        "  line.set_label(\"%d hidden nodes, %.4f learning rate\" % (n, lr))\n",
        "plt.xlim(0, args.train_size)\n",
        "plt.xlabel(\"Training examples\")\n",
        "plt.ylabel(\"Loss\")\n",
        "fig = plt.gcf()\n",
        "fig.set_size_inches(8, 4)\n",
        "\n",
        "plt.savefig('learning_curve.eps')"
      ],
      "execution_count": 168,
      "outputs": [
        {
          "output_type": "display_data",
          "data": {
            "image/png": "[encoded data removed]",
            "text/plain": [
              "<matplotlib.figure.Figure at 0x7f45e04f8d30>"
            ]
          },
          "metadata": {
            "tags": []
          }
        }
      ]
    },
    {
      "metadata": {
        "id": "PWrZLGx_c9pD",
        "colab_type": "text"
      },
      "cell_type": "markdown",
      "source": [
        "# Domain name generation"
      ]
    },
    {
      "metadata": {
        "id": "6-pAL2A0xf0a",
        "colab_type": "text"
      },
      "cell_type": "markdown",
      "source": [
        "Sample the network to generate domain names"
      ]
    },
    {
      "metadata": {
        "id": "8A2t-12WxaRk",
        "colab_type": "code",
        "colab": {
          "base_uri": "https://localhost:8080/",
          "height": 34
        },
        "outputId": "5bae3abc-2d1f-423d-d617-e42c625791d5"
      },
      "cell_type": "code",
      "source": [
        "from collections import OrderedDict\n",
        "import sklearn\n",
        "from tqdm import tqdm\n",
        "\n",
        "def one_hot_letter(l):\n",
        "  # One-hot encoding of letter\n",
        "  return one_hot(torch.tensor([alphabet[l]]))[0]\n",
        "\n",
        "def sample(model, start_letter='<s>'):\n",
        "  model.eval()\n",
        "  with torch.no_grad():\n",
        "    input = one_hot_letter(start_letter)\n",
        "    hidden = model.init_hidden()   \n",
        "\n",
        "    res = '' if start_letter == '<s>' else start_letter\n",
        "    \n",
        "    for i in range(args.max_length):   \n",
        "      output, hidden = model(input, hidden)\n",
        "      p = output.exp()[0]\n",
        "      predicted_num = torch.multinomial(p, 1).item()\n",
        "      if predicted_num == alphabet['</s>']:\n",
        "        # model generated an 'end-of-sequence'\n",
        "        break\n",
        "      predicted_letter = reverse_alphabet[predicted_num]\n",
        "      res += predicted_letter\n",
        "      input = one_hot_letter(predicted_letter)    \n",
        "      \n",
        "    return res\n",
        "\n",
        "def p_startchar(dataset, alphabet):\n",
        "  # returns the probabilities of a domain name starting with a parcticular character, based on the given dataset\n",
        "  res = OrderedDict()\n",
        "  for a in alphabet:\n",
        "    res[a] = sum([domain.startswith(a) for domain in dataset])\n",
        "  res = np.array(list(res.values()))\n",
        "  return res/res.sum()\n",
        "  \n",
        "# generate 10000 domain names\n",
        "generated_domains = []\n",
        "for i in tqdm(range(10000)):\n",
        "  generated_domains.append(sample(train_res[0][0]))"
      ],
      "execution_count": 149,
      "outputs": [
        {
          "output_type": "stream",
          "text": [
            "100%|██████████| 10000/10000 [04:45<00:00, 34.98it/s]\n"
          ],
          "name": "stderr"
        }
      ]
    },
    {
      "metadata": {
        "id": "Ow1jNQ9pFw3D",
        "colab_type": "code",
        "colab": {}
      },
      "cell_type": "code",
      "source": [
        "train_parts = [tldextract.extract(domain) for domain in train_domains]\n",
        "generated_parts = [tldextract.extract(domain) for domain in generated_domains]"
      ],
      "execution_count": 0,
      "outputs": []
    },
    {
      "metadata": {
        "id": "bCkAUbPxGcYO",
        "colab_type": "code",
        "colab": {
          "base_uri": "https://localhost:8080/",
          "height": 357
        },
        "outputId": "c89d7ca5-6159-4cb1-c206-3ad92523e2fe"
      },
      "cell_type": "code",
      "source": [
        "def num_labels(s):\n",
        "  \"\"\"\n",
        "  Returns the number of labels in the provided string\n",
        "  \"\"\"\n",
        "  if s == \"\":\n",
        "    return 0\n",
        "  return len(s.split(\".\"))\n",
        "\n",
        "print(\"-- Stats domains\")\n",
        "print(\"Length domain\")\n",
        "print(\"Training\")\n",
        "print(\"\\tMean: %f\" % np.mean([len(d) for d in train_domains]))\n",
        "print(\"\\tStdev: %f\" % np.std([len(d) for d in train_domains]))\n",
        "print(\"Generated\")\n",
        "print(\"\\tMean: %f\" % np.mean([len(d) for d in generated_domains]))\n",
        "print(\"\\tStdev: %f\" % np.std([len(d) for d in generated_domains]))\n",
        "\n",
        "print(\"# labels\")\n",
        "print(\"Training\")\n",
        "print(\"\\tMean: %f\" % np.mean([num_labels(d) for d in train_domains]))\n",
        "print(\"\\tStdev: %f\" % np.std([num_labels(d) for d in train_domains]))\n",
        "print(\"Generated\")\n",
        "print(\"\\tMean: %f\" % np.mean([num_labels(d) for d in generated_domains]))\n",
        "print(\"\\tStdev: %f\" % np.std([num_labels(d) for d in generated_domains]))\n",
        "\n",
        "print(\"Valid TLDs\")\n",
        "print(\"Training\")\n",
        "print(\"\\t%%: %f\" % (sum([d.suffix != '' for d in train_parts])/len(train_parts)))\n",
        "print(\"Generated\")\n",
        "print(\"\\t%%: %f\" % (sum([d.suffix != '' for d in generated_parts])/len(generated_parts)))"
      ],
      "execution_count": 207,
      "outputs": [
        {
          "output_type": "stream",
          "text": [
            "-- Stats domains\n",
            "Length domain\n",
            "Training\n",
            "\tMean: 26.002700\n",
            "\tStdev: 20.483293\n",
            "Generated\n",
            "\tMean: 24.733900\n",
            "\tStdev: 16.328365\n",
            "# labels\n",
            "Training\n",
            "\tMean: 3.394400\n",
            "\tStdev: 2.196781\n",
            "Generated\n",
            "\tMean: 3.263700\n",
            "\tStdev: 1.643095\n",
            "Valid TLDs\n",
            "Training\n",
            "\t%: 0.952300\n",
            "Generated\n",
            "\t%: 0.579800\n"
          ],
          "name": "stdout"
        }
      ]
    }
  ]
}