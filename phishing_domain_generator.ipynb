{
  "nbformat": 4,
  "nbformat_minor": 0,
  "metadata": {
    "colab": {
      "name": "phishing_domain_generator.ipynb",
      "version": "0.3.2",
      "provenance": [],
      "collapsed_sections": []
    },
    "kernelspec": {
      "name": "python3",
      "display_name": "Python 3"
    },
    "accelerator": "GPU"
  },
  "cells": [
    {
      "metadata": {
        "id": "-Et7DiHmUjx2",
        "colab_type": "code",
        "colab": {
          "base_uri": "https://localhost:8080/",
          "height": 139
        },
        "outputId": "528b3d3c-7132-410b-f7c4-14403ed3aac5"
      },
      "cell_type": "code",
      "source": [
        "!pip install torch"
      ],
      "execution_count": 2,
      "outputs": [
        {
          "output_type": "stream",
          "text": [
            "Collecting torch\n",
            "\u001b[?25l  Downloading https://files.pythonhosted.org/packages/49/0e/e382bcf1a6ae8225f50b99cc26effa2d4cc6d66975ccf3fa9590efcbedce/torch-0.4.1-cp36-cp36m-manylinux1_x86_64.whl (519.5MB)\n",
            "\u001b[K    100% |████████████████████████████████| 519.5MB 34kB/s \n",
            "tcmalloc: large alloc 1073750016 bytes == 0x58fc2000 @  0x7f346596b1c4 0x46d6a4 0x5fcbcc 0x4c494d 0x54f3c4 0x553aaf 0x54e4c8 0x54f4f6 0x553aaf 0x54efc1 0x54f24d 0x553aaf 0x54efc1 0x54f24d 0x553aaf 0x54efc1 0x54f24d 0x551ee0 0x54e4c8 0x54f4f6 0x553aaf 0x54efc1 0x54f24d 0x551ee0 0x54efc1 0x54f24d 0x551ee0 0x54e4c8 0x54f4f6 0x553aaf 0x54e4c8\n",
            "\u001b[?25hInstalling collected packages: torch\n",
            "Successfully installed torch-0.4.1\n"
          ],
          "name": "stdout"
        }
      ]
    },
    {
      "metadata": {
        "id": "V2xcwbxsLg8x",
        "colab_type": "text"
      },
      "cell_type": "markdown",
      "source": [
        "Mount Google Drive for access to data"
      ]
    },
    {
      "metadata": {
        "id": "JsTvT83gUjx8",
        "colab_type": "code",
        "colab": {}
      },
      "cell_type": "code",
      "source": [
        "import sys\n",
        "from google.colab import auth\n",
        "import getpass\n",
        "\n",
        "if sys.platform == 'linux' and not 'initialized' in locals():\n",
        "  !apt-get install -y -qq software-properties-common python-software-properties module-init-tools\n",
        "  !add-apt-repository -y ppa:alessandro-strada/ppa 2>&1 > /dev/null\n",
        "  !apt-get update -qq 2>&1 > /dev/null\n",
        "  !apt-get -y install -qq google-drive-ocamlfuse fuse\n",
        "  \n",
        "  auth.authenticate_user()\n",
        "  from oauth2client.client import GoogleCredentials\n",
        "  creds = GoogleCredentials.get_application_default()\n",
        "\n",
        "  !google-drive-ocamlfuse -headless -id={creds.client_id} -secret={creds.client_secret} < /dev/null 2>&1 | grep URL\n",
        "  vcode = getpass.getpass()\n",
        "  !echo {vcode} | google-drive-ocamlfuse -headless -id={creds.client_id} -secret={creds.client_secret}\n",
        "\n",
        "  !mkdir -p data\n",
        "  !google-drive-ocamlfuse data\n",
        "  \n",
        "  initialized = True\n",
        "else:\n",
        "  print(\"Already initialized\")"
      ],
      "execution_count": 0,
      "outputs": []
    },
    {
      "metadata": {
        "id": "HeUbABVjUjyB",
        "colab_type": "code",
        "colab": {}
      },
      "cell_type": "code",
      "source": [
        "import torch\n",
        "import numpy as np\n",
        "\n",
        "torch.manual_seed(1);"
      ],
      "execution_count": 0,
      "outputs": []
    },
    {
      "metadata": {
        "id": "bn-_WM_BW1TB",
        "colab_type": "code",
        "colab": {}
      },
      "cell_type": "code",
      "source": [
        "class args:\n",
        "  # data set sizes\n",
        "  train_size = 10000\n",
        "  test_size = 10000\n",
        "  \n",
        "  # training parameters\n",
        "  n_iters = 5000\n",
        "  print_every = 100\n",
        "  plot_every = 50\n",
        "\n",
        "  lr = 0.001\n",
        "  \n",
        "  # sampling\n",
        "  max_length = 128"
      ],
      "execution_count": 0,
      "outputs": []
    },
    {
      "metadata": {
        "id": "XfASdJiEUjyD",
        "colab_type": "text"
      },
      "cell_type": "markdown",
      "source": [
        "Initial boilerplate code"
      ]
    },
    {
      "metadata": {
        "id": "8wmRmrxlUjyD",
        "colab_type": "code",
        "colab": {}
      },
      "cell_type": "code",
      "source": [
        "from collections import defaultdict\n",
        "\n",
        "# Define vocabulary dictionary\n",
        "next_index = 0\n",
        "def get_new_index():\n",
        "  global next_index\n",
        "  index = next_index\n",
        "  next_index += 1\n",
        "  return index\n",
        "\n",
        "vocabulary = defaultdict(get_new_index)"
      ],
      "execution_count": 0,
      "outputs": []
    },
    {
      "metadata": {
        "id": "HMW8u3yrUjyF",
        "colab_type": "text"
      },
      "cell_type": "markdown",
      "source": [
        "Load the phishing domains from a file. The file is expected to contain a pickled Python list of strings."
      ]
    },
    {
      "metadata": {
        "id": "H6haIe8pUjyH",
        "colab_type": "code",
        "colab": {}
      },
      "cell_type": "code",
      "source": [
        "import pickle\n",
        "\n",
        "TRAIN_FILE = \"data/phishing_domains.dat\"\n",
        "with open(TRAIN_FILE, 'rb') as f:\n",
        "    data = pickle.load(f)  "
      ],
      "execution_count": 0,
      "outputs": []
    },
    {
      "metadata": {
        "id": "1TB18b3iUjyJ",
        "colab_type": "text"
      },
      "cell_type": "markdown",
      "source": [
        "Tokenize data and fill (reverse) vocabulary"
      ]
    },
    {
      "metadata": {
        "id": "xJVJqJ10UjyJ",
        "colab_type": "code",
        "colab": {}
      },
      "cell_type": "code",
      "source": [
        "import itertools\n",
        "\n",
        "device = torch.device('cuda' if torch.cuda.is_available() else 'cpu')\n",
        "\n",
        "def tokenize(data):\n",
        "  # Returns a list of Tensors, with each integer in the tensor representing a character in a domain name.\n",
        "  # Note that domain names are case-insensitive.\n",
        "  return [torch.tensor([vocabulary['<s>']] + [vocabulary[i] for i in domain.lower()] + [vocabulary['</s>']]).to(device) for domain in data]\n",
        "\n",
        "def detokenize(t):\n",
        "  # Recreate domain name from tensor 1d t\n",
        "  res = ''\n",
        "  for token in t:\n",
        "    res += reverse_vocab[token.item()]\n",
        "  return res\n",
        "\n",
        "train_tokens = tokenize(data[:args.train_size])\n",
        "test_tokens = tokenize(data[args.train_size:args.train_size+args.test_size])\n",
        "  \n",
        "vocab_size = len(vocabulary)\n",
        "reverse_vocab = dict([(v,k) for k, v in vocabulary.items()])"
      ],
      "execution_count": 0,
      "outputs": []
    },
    {
      "metadata": {
        "id": "QZwdrE7imNxO",
        "colab_type": "text"
      },
      "cell_type": "markdown",
      "source": [
        "Some helper functions"
      ]
    },
    {
      "metadata": {
        "id": "FfJ_gc56mHzc",
        "colab_type": "code",
        "colab": {}
      },
      "cell_type": "code",
      "source": [
        "import numpy as np\n",
        "import random\n",
        "\n",
        "random.seed(1)\n",
        "\n",
        "def one_hot(d):\n",
        "  # One-hot encoding of 1-d tensor d\n",
        "  res = torch.zeros(len(d), 1, vocab_size).to(device)\n",
        "  for i, char in enumerate(d):\n",
        "    res[i][0][int(char.item())] = 1\n",
        "  return res\n",
        "\n",
        "def encode_inputs(d):\n",
        "  # One-hot encoding for the input of a 1d tensor\n",
        "  return one_hot(d[:-1])\n",
        "\n",
        "def encode_targets(d):\n",
        "  # Return targets for 1d tensor d\n",
        "  return d[1:]\n",
        "\n",
        "def random_sample(data):\n",
        "  return random.choice(data)\n"
      ],
      "execution_count": 0,
      "outputs": []
    },
    {
      "metadata": {
        "id": "jSGjNhhkUjyT",
        "colab_type": "text"
      },
      "cell_type": "markdown",
      "source": [
        "Define model"
      ]
    },
    {
      "metadata": {
        "id": "Zdfj5CMQUjyT",
        "colab_type": "code",
        "colab": {}
      },
      "cell_type": "code",
      "source": [
        "import torch.nn as nn\n",
        "\n",
        "class RNNModel(nn.Module):\n",
        "    def __init__(self, n_input, n_hidden, n_output):\n",
        "        super(RNNModel, self).__init__()              \n",
        "        self.n_hidden = n_hidden\n",
        "\n",
        "        self.i2h = nn.Linear(n_input + n_hidden, n_hidden)\n",
        "        self.i2o = nn.Linear(n_input + n_hidden, n_output)\n",
        "        self.o2o = nn.Linear(n_hidden + n_output, n_output)\n",
        "        self.dropout = nn.Dropout(0.1)\n",
        "        self.softmax = nn.LogSoftmax(dim=1)\n",
        "        \n",
        "    def forward(self, input, hidden=None):\n",
        "        input_combined = torch.cat((input, hidden), 1)\n",
        "        hidden = self.i2h(input_combined)\n",
        "        output = self.i2o(input_combined)\n",
        "        output_combined = torch.cat((hidden, output), 1)\n",
        "        output = self.o2o(output_combined)\n",
        "        output = self.dropout(output)\n",
        "        output = self.softmax(output)\n",
        "        return output, hidden\n",
        "    \n",
        "    def init_hidden(self):\n",
        "      return torch.zeros(1, self.n_hidden).to(device)\n",
        "    \n",
        "lossfn = nn.NLLLoss()"
      ],
      "execution_count": 0,
      "outputs": []
    },
    {
      "metadata": {
        "id": "j_iH8plmUjyV",
        "colab_type": "text"
      },
      "cell_type": "markdown",
      "source": [
        "Define train function, which trains the provided model on a single domain name"
      ]
    },
    {
      "metadata": {
        "id": "ZqsUsC6uUjyV",
        "colab_type": "code",
        "colab": {}
      },
      "cell_type": "code",
      "source": [
        "def train_example(model, optimizer, sample):\n",
        "  # train on a single example domain name\n",
        "  inputs, targets = encode_inputs(sample), encode_targets(sample)\n",
        "\n",
        "  hidden = model.init_hidden()\n",
        "  targets.unsqueeze_(-1)\n",
        " \n",
        "  loss = 0\n",
        "    \n",
        "  for i in range(inputs.size(0)):    \n",
        "    input, target = inputs[i], targets[i]\n",
        "    output, hidden = model(input, hidden)\n",
        "    loss += lossfn(output, target)   \n",
        "\n",
        "  optimizer.zero_grad()\n",
        "  loss.backward()\n",
        "  optimizer.step()\n",
        "    \n",
        "  return output, loss.item()/inputs.size(0)   "
      ],
      "execution_count": 0,
      "outputs": []
    },
    {
      "metadata": {
        "id": "I9xDEVdydpwA",
        "colab_type": "text"
      },
      "cell_type": "markdown",
      "source": [
        "Util function for timing"
      ]
    },
    {
      "metadata": {
        "id": "NiHpbtd7dpRp",
        "colab_type": "code",
        "colab": {}
      },
      "cell_type": "code",
      "source": [
        "import time\n",
        "import math\n",
        "\n",
        "def elapsed(since):\n",
        "  # Return a string representing the elapsed time since 'since'\n",
        "  now = time.time()\n",
        "  s = now - since\n",
        "  m = math.floor(s / 60)\n",
        "  s -= m * 60\n",
        "  return '%dm %ds' % (m, s)\n",
        "\n",
        "def now():\n",
        "  return time.time()"
      ],
      "execution_count": 0,
      "outputs": []
    },
    {
      "metadata": {
        "id": "vLf3SR1xdA3O",
        "colab_type": "text"
      },
      "cell_type": "markdown",
      "source": [
        "Train the model"
      ]
    },
    {
      "metadata": {
        "id": "lgx6gwyJc-7P",
        "colab_type": "code",
        "colab": {}
      },
      "cell_type": "code",
      "source": [
        "def train(model, optimizer):\n",
        "  print_loss, plot_loss, all_losses = 0, 0, []  \n",
        "  start = now()\n",
        "\n",
        "  for iter in range(1, args.n_iters+1):\n",
        "    sample = random_sample(train_tokens)  \n",
        "    output, loss = train_example(model, optimizer, sample)\n",
        "    print_loss += loss\n",
        "    plot_loss += loss\n",
        "\n",
        "    if iter % args.print_every == 0:    \n",
        "      print(\"%s (%d %d%%) %.4f\" % (elapsed(start), iter, iter/args.n_iters*100, print_loss / args.print_every))\n",
        "      print_loss = 0\n",
        "\n",
        "    if iter % args.plot_every == 0:\n",
        "      avg_loss = plot_loss / args.plot_every\n",
        "      all_losses.append(avg_loss)\n",
        "      plot_loss = 0\n",
        "      \n",
        "  return all_losses\n",
        "\n",
        "train_res = []\n",
        "\n",
        "n_hidden = [128, 256]\n",
        "for n in n_hidden:\n",
        "  model = RNNModel(vocab_size, n, vocab_size).to(device)\n",
        "  optimizer = torch.optim.Adam(model.parameters(), lr=args.lr)\n",
        "  \n",
        "  model_losses = train(model, optimizer)\n",
        "  \n",
        "  train_res.append((model, n, model_losses))"
      ],
      "execution_count": 0,
      "outputs": []
    },
    {
      "metadata": {
        "id": "9ovyqaUzkVff",
        "colab_type": "code",
        "colab": {
          "base_uri": "https://localhost:8080/",
          "height": 351
        },
        "outputId": "8c6aa651-a6c1-4115-97c2-2813f36c25c0"
      },
      "cell_type": "code",
      "source": [
        "import matplotlib.pyplot as plt\n",
        "import matplotlib.ticker as ticker\n",
        "\n",
        "plt.figure()\n",
        "for model, n, model_losses in losses:\n",
        "  line, = plt.plot(model_losses)\n",
        "  line.set_label(\"%d hidden nodes\" % n)\n",
        "plt.legend()\n",
        "plt.ylim(1, 4)\n",
        "plt.ylabel(\"Loss\");\n"
      ],
      "execution_count": 253,
      "outputs": [
        {
          "output_type": "display_data",
          "data": {
            "image/png": "[encoded data removed]",
            "text/plain": [
              "<matplotlib.figure.Figure at 0x7f936d184128>"
            ]
          },
          "metadata": {
            "tags": []
          }
        }
      ]
    },
    {
      "metadata": {
        "id": "6-pAL2A0xf0a",
        "colab_type": "text"
      },
      "cell_type": "markdown",
      "source": [
        "Sample the network to generate domain names"
      ]
    },
    {
      "metadata": {
        "id": "8A2t-12WxaRk",
        "colab_type": "code",
        "colab": {
          "base_uri": "https://localhost:8080/",
          "height": 1717
        },
        "outputId": "f5ec8e0e-4565-4a7e-8ec3-0ddd0731b1ea"
      },
      "cell_type": "code",
      "source": [
        "def one_hot_letter(l):\n",
        "  # One-hot encoding of letter\n",
        "  return one_hot(torch.tensor([vocabulary[l]]))[0]\n",
        "\n",
        "def sample(model, start_letter='<s>'):\n",
        "  with torch.no_grad():\n",
        "    input = one_hot_letter(start_letter)\n",
        "    hidden = model.init_hidden()   \n",
        "\n",
        "    res = '' if start_letter == '<s>' else start_letter\n",
        "    \n",
        "    for i in range(args.max_length):   \n",
        "      output, hidden = model(input, hidden)\n",
        "      predicted_num = output.topk(1)[1].item()\n",
        "      if predicted_num == vocabulary['</s>']:\n",
        "        # model generated an 'end-of-sequence'\n",
        "        break\n",
        "      predicted_letter = reverse_vocab[predicted_num]\n",
        "      res += predicted_letter\n",
        "      input = one_hot_letter(predicted_letter)    \n",
        "      \n",
        "    return res\n",
        "\n",
        "def samples(model, start_letters=['<s>']):\n",
        "  for start_letter in start_letters:\n",
        "    print(sample(model, start_letter))\n",
        "\n",
        "# generate 100 domain names\n",
        "chars = 'abcdefghijklmnopqrstuvxyz0123456789'\n",
        "for i in range(100):\n",
        "  start_letter = random.choice(chars)\n",
        "  print(sample(train_res[0][0], start_letter))\n",
        "    "
      ],
      "execution_count": 263,
      "outputs": [
        {
          "output_type": "stream",
          "text": [
            "onet.net\n",
            "rogi-bindse.com\n",
            "4pay.allvin.com\n",
            "zelindes.com\n",
            "rogin.ingin.anm.812mbd5bisdevintinet\n",
            "mate.compaypal.tk\n",
            "xwww.linfarmo.com.iom.com\n",
            "2120254bd3my850ywfrywww.www.lomforsdateb-lckerm.com\n",
            "verinite.nivelwalesfasgong.com\n",
            "quypal.mer-gicas.com\n",
            "xwww.linfarmo.com.ant.cot\n",
            "909121balct.comps-wolll.nor.motil.com\n",
            "876.mots.mems-womntived.cor\n",
            "x.com\n",
            "serverisi.re\n",
            "karde.ccounts.updrte.com\n",
            "4paypal.cem.som\n",
            "876.mot\n",
            "9.moriveenfis.comer-pacot.motelitw.com\n",
            "date.che.kesfarge-saccen-supps.tk\n",
            "tedstones.co\n",
            "terseccor-suspset\n",
            "it.com\n",
            "net.cet\n",
            "z.net\n",
            "verifacom.anm.com\n",
            "dasecom.con.bon.set.com\n",
            "serverise.com\n",
            "line.com\n",
            "j.com\n",
            "matin.pactount.cod.kesuro.login-weblifasgom.com\n",
            "876.mots.mems-web-paypa.do\n",
            "876.mats.ckmpa.mousethechero.com\n",
            "2120254bdyamp.com\n",
            "quypa-dedm.wom\n",
            "ypaltt.com\n",
            "farmess.cor\n",
            "yparte.com.bin.upd.com\n",
            "j.com\n",
            "hedaseccounto.net\n",
            "ginet.com.net\n",
            "onet.com\n",
            "accounts.clvinw.bogl-sen-tcompessfarge-suris.com\n",
            "esthe.com\n",
            "55a2d.accus.ckm-arymares.com\n",
            "dets.com\n",
            "estinety.clonem.comes.com\n",
            "verindia.bi\n",
            "ypaltserveridi.aco.ve\n",
            "ginet.cou\n",
            "7.com\n",
            "tedstones.com\n",
            "date.com\n",
            "620159844cco.nmpsompels.com.com\n",
            "net.ccount.compen.34pd3jncu5n8q4mps3mthrmpentt.com\n",
            "6.com\n",
            "bines.com\n",
            "876.mots.mets-w5binfis.com\n",
            "zell.com.on\n",
            "acom.bom\n",
            "4p.com\n",
            "update.com\n",
            "y6.ratiche.kypal.tem.sem\n",
            "ginet.com\n",
            "176.612120.55\n",
            "176.61.morem.cam\n",
            "checheco.com\n",
            "3z2lj.com\n",
            "binet\n",
            "176.63.s40917266.wonfijatq.com\n",
            "quypal.mer-gomppaytel.fon-subpl-dix.br\n",
            "21202q1yppaywww.devorwabe.cos.mom\n",
            "xwhe.cor\n",
            "serverist.res.co\n",
            "karde.corebin.sec.com\n",
            "xwww.linfarmo.ccounmppaypal.tky.robizeky.com\n",
            "net.coluypalteluywwl.mersuride.com\n",
            "76.com\n",
            "accounts.com\n",
            "farmesscom\n",
            "verificotil.com\n",
            "17.com\n",
            "6.com\n",
            "veconim.bizekyj5344d12yw5qyww1zdfuywww.mellynar-sustrreschrakypat.tom.wwww.matiywww.lesfrrascon.bones.com.com\n",
            "binets.com\n",
            "09892y65rafliymastonet-palcer.ck\n",
            "2120254bd3mywwmbdacys.mpe-meditecurtey.com\n",
            "7.com\n",
            "876.mots.mems-web-paypr.com\n",
            "upeco.com\n",
            "4pas.ckm.nom\n",
            "teds.com\n",
            "veresiche.com\n",
            "es.comeb-pespa.cem\n",
            "j.cam-www.dets.uros.con.bon.set\n",
            "ginet.cet\n",
            "hedaseccounts.com.arm2yw5pbdq1yw544w.mywwrmawwy.allstilsenfirmatemypampsivteraschoned.nfvertaccountsonfirmfizgnatkn.q1mpd10wwqlem\n",
            "paypal.com.momsinet.notkindebindex.com\n",
            "876.moginet\n",
            "176.61.moriviewwww.wew.wet\n"
          ],
          "name": "stdout"
        }
      ]
    }
  ]
}