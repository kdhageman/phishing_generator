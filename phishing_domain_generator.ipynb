{
  "nbformat": 4,
  "nbformat_minor": 0,
  "metadata": {
    "colab": {
      "name": "phishing_domain_generator.ipynb",
      "version": "0.3.2",
      "provenance": [],
      "collapsed_sections": []
    },
    "kernelspec": {
      "name": "python3",
      "display_name": "Python 3"
    },
    "accelerator": "GPU"
  },
  "cells": [
    {
      "metadata": {
        "id": "-Et7DiHmUjx2",
        "colab_type": "code",
        "colab": {
          "base_uri": "https://localhost:8080/",
          "height": 34
        },
        "outputId": "b8739fc4-3b3e-4b0b-92a2-071ba95799df"
      },
      "cell_type": "code",
      "source": [
        "!pip install torch  "
      ],
      "execution_count": 256,
      "outputs": [
        {
          "output_type": "stream",
          "text": [
            "Requirement already satisfied: torch in /usr/local/lib/python3.6/dist-packages (0.4.1)\r\n"
          ],
          "name": "stdout"
        }
      ]
    },
    {
      "metadata": {
        "id": "V2xcwbxsLg8x",
        "colab_type": "text"
      },
      "cell_type": "markdown",
      "source": [
        "Mount Google Drive for access to data"
      ]
    },
    {
      "metadata": {
        "id": "JsTvT83gUjx8",
        "colab_type": "code",
        "colab": {
          "base_uri": "https://localhost:8080/",
          "height": 34
        },
        "outputId": "929bf6c6-eda0-466b-db86-1ebb0d139376"
      },
      "cell_type": "code",
      "source": [
        "import sys\n",
        "\n",
        "if sys.platform == 'linux' and not 'initialized' in locals():\n",
        "  !apt-get install -y -qq software-properties-common python-software-properties module-init-tools\n",
        "  !add-apt-repository -y ppa:alessandro-strada/ppa 2>&1 > /dev/null\n",
        "  !apt-get update -qq 2>&1 > /dev/null\n",
        "  !apt-get -y install -qq google-drive-ocamlfuse fuse\n",
        "  from google.colab import auth\n",
        "  auth.authenticate_user()\n",
        "  from oauth2client.client import GoogleCredentials\n",
        "  creds = GoogleCredentials.get_application_default()\n",
        "  import getpass\n",
        "  !google-drive-ocamlfuse -headless -id={creds.client_id} -secret={creds.client_secret} < /dev/null 2>&1 | grep URL\n",
        "  vcode = getpass.getpass()\n",
        "  !echo {vcode} | google-drive-ocamlfuse -headless -id={creds.client_id} -secret={creds.client_secret}\n",
        "\n",
        "  !mkdir -p data\n",
        "  !google-drive-ocamlfuse data\n",
        "  \n",
        "  initialized = True\n",
        "else:\n",
        "  print(\"Already initialized\")"
      ],
      "execution_count": 327,
      "outputs": [
        {
          "output_type": "stream",
          "text": [
            "Already initialized\n"
          ],
          "name": "stdout"
        }
      ]
    },
    {
      "metadata": {
        "id": "HeUbABVjUjyB",
        "colab_type": "code",
        "colab": {}
      },
      "cell_type": "code",
      "source": [
        "import torch\n",
        "import numpy as np\n",
        "\n",
        "torch.manual_seed(1);"
      ],
      "execution_count": 0,
      "outputs": []
    },
    {
      "metadata": {
        "id": "bn-_WM_BW1TB",
        "colab_type": "code",
        "colab": {}
      },
      "cell_type": "code",
      "source": [
        "class args:\n",
        "  train_size = 20000\n",
        "  test_size = 10000\n",
        "  \n",
        "  learning_rate = 0.0005\n",
        "\n",
        "  n_iters = 10000\n",
        "  print_every = 500\n",
        "  plot_every = 100"
      ],
      "execution_count": 0,
      "outputs": []
    },
    {
      "metadata": {
        "id": "XfASdJiEUjyD",
        "colab_type": "text"
      },
      "cell_type": "markdown",
      "source": [
        "Initial boilerplate code"
      ]
    },
    {
      "metadata": {
        "id": "8wmRmrxlUjyD",
        "colab_type": "code",
        "colab": {}
      },
      "cell_type": "code",
      "source": [
        "from collections import defaultdict\n",
        "\n",
        "# Define vocabulary dictionary\n",
        "next_index = 0\n",
        "def get_new_index():\n",
        "  global next_index\n",
        "  index = next_index\n",
        "  next_index += 1\n",
        "  return index\n",
        "\n",
        "vocabulary = defaultdict(get_new_index)"
      ],
      "execution_count": 0,
      "outputs": []
    },
    {
      "metadata": {
        "id": "HMW8u3yrUjyF",
        "colab_type": "text"
      },
      "cell_type": "markdown",
      "source": [
        "Load the phishing domains from a file. The file is expected to contain a pickled Python list of strings."
      ]
    },
    {
      "metadata": {
        "id": "H6haIe8pUjyH",
        "colab_type": "code",
        "colab": {}
      },
      "cell_type": "code",
      "source": [
        "import pickle\n",
        "\n",
        "TRAIN_FILE = \"data/phishing_domains.dat\"\n",
        "with open(TRAIN_FILE, 'rb') as f:\n",
        "    data = pickle.load(f)  "
      ],
      "execution_count": 0,
      "outputs": []
    },
    {
      "metadata": {
        "id": "1TB18b3iUjyJ",
        "colab_type": "text"
      },
      "cell_type": "markdown",
      "source": [
        "Tokenize data and fill (reverse) vocabulary"
      ]
    },
    {
      "metadata": {
        "id": "xJVJqJ10UjyJ",
        "colab_type": "code",
        "colab": {}
      },
      "cell_type": "code",
      "source": [
        "import itertools\n",
        "\n",
        "device = torch.device('cuda' if torch.cuda.is_available() else 'cpu')\n",
        "\n",
        "def tokenize(data):\n",
        "  # Returns a list of Tensors, with each integer in the tensor representing a character in a domain name.\n",
        "  # Note that domain names are case-insensitive.\n",
        "  return [torch.tensor([vocabulary['<s>']] + [vocabulary[i] for i in domain.lower()] + [vocabulary['</s>']]).to(device) for domain in data]\n",
        "\n",
        "def detokenize(t):\n",
        "  # Recreate domain name from tensor 1d t\n",
        "  res = ''\n",
        "  for token in t:\n",
        "    res += reverse_vocab[token.item()]\n",
        "  return res\n",
        "\n",
        "train_tokens = tokenize(data[:args.train_size])\n",
        "test_tokens = tokenize(data[args.train_size:args.train_size+args.test_size])\n",
        "  \n",
        "vocab_size = len(vocabulary)\n",
        "reverse_vocab = dict([(v,k) for k, v in vocabulary.items()])"
      ],
      "execution_count": 0,
      "outputs": []
    },
    {
      "metadata": {
        "id": "QZwdrE7imNxO",
        "colab_type": "text"
      },
      "cell_type": "markdown",
      "source": [
        "Some helper functions"
      ]
    },
    {
      "metadata": {
        "id": "FfJ_gc56mHzc",
        "colab_type": "code",
        "colab": {}
      },
      "cell_type": "code",
      "source": [
        "import numpy as np\n",
        "import random\n",
        "\n",
        "def one_hot(d):\n",
        "  # One-hot encoding of 1-d tensor d\n",
        "  res = torch.zeros(len(d), 1, vocab_size).to(device)\n",
        "  for i, char in enumerate(d):\n",
        "    res[i][0][int(char.item())] = 1\n",
        "  return res\n",
        "\n",
        "def encode_samples(d):\n",
        "  # One-hot encoding for the input of a 1d tensor\n",
        "  return one_hot(d[:-1])\n",
        "\n",
        "def encode_targets(d):\n",
        "  # Return targets for 1d tensor d\n",
        "  return d[1:]\n",
        "\n",
        "def random_sample(data):\n",
        "  r = random.choice(data)\n",
        "  return encode_samples(r), encode_targets(r)"
      ],
      "execution_count": 0,
      "outputs": []
    },
    {
      "metadata": {
        "id": "jSGjNhhkUjyT",
        "colab_type": "text"
      },
      "cell_type": "markdown",
      "source": [
        "Define model"
      ]
    },
    {
      "metadata": {
        "id": "Zdfj5CMQUjyT",
        "colab_type": "code",
        "colab": {}
      },
      "cell_type": "code",
      "source": [
        "import torch.nn as nn\n",
        "\n",
        "class RNNModel(nn.Module):\n",
        "    def __init__(self, n_input, n_hidden, n_output):\n",
        "        super(RNNModel, self).__init__()              \n",
        "        self.n_hidden = n_hidden\n",
        "\n",
        "        self.i2h = nn.Linear(n_input + n_hidden, n_hidden)\n",
        "        self.i2o = nn.Linear(n_input + n_hidden, n_output)\n",
        "        self.o2o = nn.Linear(n_hidden + n_output, n_output)\n",
        "        self.dropout = nn.Dropout(0.1)\n",
        "        self.softmax = nn.LogSoftmax(dim=1)\n",
        "        \n",
        "    def forward(self, input, hidden=None):\n",
        "        input_combined = torch.cat((input, hidden), 1)\n",
        "        hidden = self.i2h(input_combined)\n",
        "        output = self.i2o(input_combined)\n",
        "        output_combined = torch.cat((hidden, output), 1)\n",
        "        output = self.o2o(output_combined)\n",
        "        output = self.dropout(output)\n",
        "        output = self.softmax(output)\n",
        "        return output, hidden\n",
        "    \n",
        "    def init_hidden(self):\n",
        "      return torch.zeros(1, self.n_hidden).to(device)\n",
        "    \n",
        "lossfn = nn.NLLLoss()"
      ],
      "execution_count": 0,
      "outputs": []
    },
    {
      "metadata": {
        "id": "j_iH8plmUjyV",
        "colab_type": "text"
      },
      "cell_type": "markdown",
      "source": [
        "Define train function, which trains the provided model on a single domain name"
      ]
    },
    {
      "metadata": {
        "id": "ZqsUsC6uUjyV",
        "colab_type": "code",
        "colab": {}
      },
      "cell_type": "code",
      "source": [
        "def train(model, samples, targets, lr):\n",
        "  # train on a single example domain name\n",
        "  hidden = model.init_hidden()\n",
        "  targets.unsqueeze_(-1)\n",
        "  \n",
        "  model.zero_grad()\n",
        "  \n",
        "  loss = 0\n",
        "    \n",
        "  for i in range(samples.size(0)):    \n",
        "    sample, target = samples[i], targets[i]\n",
        "    output, hidden = model(sample, hidden)\n",
        "    l = lossfn(output, target)\n",
        "    \n",
        "    loss += l\n",
        "\n",
        "  loss.backward()\n",
        "  \n",
        "  for p in model.parameters():\n",
        "    p.data.add(-lr, p.grad.data)\n",
        "    \n",
        "  return output, loss.item() / samples.size(0)   "
      ],
      "execution_count": 0,
      "outputs": []
    },
    {
      "metadata": {
        "id": "I9xDEVdydpwA",
        "colab_type": "text"
      },
      "cell_type": "markdown",
      "source": [
        "Util function for timing"
      ]
    },
    {
      "metadata": {
        "id": "NiHpbtd7dpRp",
        "colab_type": "code",
        "colab": {}
      },
      "cell_type": "code",
      "source": [
        "import time\n",
        "import math\n",
        "\n",
        "def elapsed(since):\n",
        "  # Return a string representing the elapsed time since 'since'\n",
        "  now = time.time()\n",
        "  s = now - since\n",
        "  m = math.floor(s / 60)\n",
        "  s -= m * 60\n",
        "  return '%dm %ds' % (m, s)\n",
        "\n",
        "def now():\n",
        "  return time.time()"
      ],
      "execution_count": 0,
      "outputs": []
    },
    {
      "metadata": {
        "id": "vLf3SR1xdA3O",
        "colab_type": "text"
      },
      "cell_type": "markdown",
      "source": [
        "Train the model"
      ]
    },
    {
      "metadata": {
        "id": "lgx6gwyJc-7P",
        "colab_type": "code",
        "colab": {
          "base_uri": "https://localhost:8080/",
          "height": 187
        },
        "outputId": "8357f430-fd57-456f-e70b-c19a379c65ad"
      },
      "cell_type": "code",
      "source": [
        "model = RNNModel(vocab_size, 128, vocab_size).to(device)\n",
        "\n",
        "total_loss = 0  \n",
        "all_losses = []\n",
        "  \n",
        "start = now()\n",
        "  \n",
        "for iter in range(1, args.n_iters+1):\n",
        "  sample, target = random_sample(train_tokens)  \n",
        "  output, loss = train(model, sample, target, args.learning_rate)\n",
        "  total_loss += loss\n",
        "  \n",
        "  if iter % args.print_every == 0:\n",
        "    print(\"%s (%d %d%%) %.4f\" % (elapsed(start), iter, iter/args.n_iters*100, loss))\n",
        "  \n",
        "  if iter % args.plot_every == 0:\n",
        "    avg_loss = total_loss / args.plot_every\n",
        "    all_losses.append(avg_loss)\n",
        "    total_loss = 0"
      ],
      "execution_count": 375,
      "outputs": [
        {
          "output_type": "stream",
          "text": [
            "tensor(215.7715, device='cuda:0', grad_fn=<ThAddBackward>)\n",
            "0m 0s (1 20%) 3.7855\n",
            "tensor(215.6009, device='cuda:0', grad_fn=<ThAddBackward>)\n",
            "0m 0s (2 40%) 3.7825\n",
            "tensor(215.6642, device='cuda:0', grad_fn=<ThAddBackward>)\n",
            "0m 0s (3 60%) 3.7836\n",
            "tensor(215.8185, device='cuda:0', grad_fn=<ThAddBackward>)\n",
            "0m 0s (4 80%) 3.7863\n",
            "tensor(215.5451, device='cuda:0', grad_fn=<ThAddBackward>)\n",
            "0m 0s (5 100%) 3.7815\n"
          ],
          "name": "stdout"
        }
      ]
    },
    {
      "metadata": {
        "id": "9ovyqaUzkVff",
        "colab_type": "code",
        "colab": {
          "base_uri": "https://localhost:8080/",
          "height": 375
        },
        "outputId": "1147e504-8c30-45de-eef4-4ba8d8ff0a70"
      },
      "cell_type": "code",
      "source": [
        "import matplotlib.pyplot as plt\n",
        "import matplotlib.ticker as ticker\n",
        "\n",
        "plt.figure()\n",
        "plt.plot(all_losses)\n",
        "plt.ylabel(\"Loss\")"
      ],
      "execution_count": 373,
      "outputs": [
        {
          "output_type": "execute_result",
          "data": {
            "text/plain": [
              "Text(0,0.5,'Loss')"
            ]
          },
          "metadata": {
            "tags": []
          },
          "execution_count": 373
        },
        {
          "output_type": "display_data",
          "data": {
            "image/png": "[encoded data removed]",
            "text/plain": [
              "<matplotlib.figure.Figure at 0x7fecfb2499e8>"
            ]
          },
          "metadata": {
            "tags": []
          }
        }
      ]
    },
    {
      "metadata": {
        "id": "heF7WNXEevR4",
        "colab_type": "code",
        "colab": {}
      },
      "cell_type": "code",
      "source": [
        ""
      ],
      "execution_count": 0,
      "outputs": []
    }
  ]
}